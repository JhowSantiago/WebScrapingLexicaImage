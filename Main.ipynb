{
 "cells": [
  {
   "cell_type": "code",
   "execution_count": 1,
   "metadata": {},
   "outputs": [],
   "source": [
    "import requests\n",
    "import json\n",
    "from  time import sleep\n",
    "import random\n",
    "from getpass import getpass\n",
    "from selenium import webdriver\n",
    "from webdriver_manager.chrome import ChromeDriverManager\n",
    "from selenium.webdriver.chrome.service import Service\n",
    "from selenium.webdriver.support.ui import WebDriverWait\n",
    "from selenium.webdriver.support import expected_conditions as EC\n",
    "from selenium.webdriver.common.by import By\n",
    "import undetected_chromedriver as uc"
   ]
  },
  {
   "cell_type": "markdown",
   "metadata": {},
   "source": [
    "# Criando o Navegador e Definindo Suas configurações"
   ]
  },
  {
   "cell_type": "code",
   "execution_count": null,
   "metadata": {},
   "outputs": [],
   "source": [
    "#detectar a versão do Chrome instalada e baixar o ChromeDriver correspondente\n",
    "servico = Service(ChromeDriverManager().install())\n",
    "\n",
    "options = webdriver.ChromeOptions()\n",
    "# Opções do navegador\n",
    "\n",
    "options.add_argument(\"--hide-scrollbars\") # esconde as barras de rolagem\n",
    "options.add_argument(\"--mute-audio\") # desabilita o áudio\n",
    "options.add_argument(\"--window-size=800,600\") # define o tamanho da janela\n",
    "options.add_argument(\"--disable-popup-blocking\") # desabilita o bloqueador de pop-ups\n",
    "\n",
    "options.add_argument(\"--disable-blink-features=AutomationControlled\")\n",
    "options.add_argument('user-agent=Mozilla/5.0 (Windows NT 10.0; Win64; x64) AppleWebKit/537.36 (KHTML, like Gecko) Chrome/91.0.4472.124 Safari/537.36')\n",
    "\n",
    "# Inicializar o navegador utilizando o undetected-chromedriver com as opções ajustadas\n",
    "navegador = uc.Chrome(service=servico, options=options)\n",
    "\n",
    "# Remover o navigator.webdriver\n",
    "navegador.execute_cdp_cmd('Page.addScriptToEvaluateOnNewDocument', {\n",
    "    'source': '''\n",
    "        Object.defineProperty(navigator, 'webdriver', {\n",
    "            get: () => undefined\n",
    "        })\n",
    "    '''\n",
    "})\n",
    "\n",
    "# Espera explícita para garantir que os elementos estejam presentes e clicáveis\n",
    "wait = WebDriverWait(navegador, 15)\n",
    "\n",
    "navegador.get(\"https://www.google.com/\")"
   ]
  }
 ],
 "metadata": {
  "kernelspec": {
   "display_name": ".venv",
   "language": "python",
   "name": "python3"
  },
  "language_info": {
   "codemirror_mode": {
    "name": "ipython",
    "version": 3
   },
   "file_extension": ".py",
   "mimetype": "text/x-python",
   "name": "python",
   "nbconvert_exporter": "python",
   "pygments_lexer": "ipython3",
   "version": "3.12.7"
  }
 },
 "nbformat": 4,
 "nbformat_minor": 2
}
